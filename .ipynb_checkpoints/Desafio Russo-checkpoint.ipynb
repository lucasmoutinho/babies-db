{
 "cells": [
  {
   "cell_type": "markdown",
   "metadata": {},
   "source": [
    "# Desafio Russo - Dead Babies\n",
    "\n",
    "by Thiago Russo:\n",
    "> Os times de quarta e sexta preparam o seguinte dever de casa para me apresentar (objetivos: praticar criar massa de teste, praticar relatorio no Viya, aprender a colocar um parametro para filtrar um relatorio no Viya)\n",
    "1. Com base no slide de \"Mães fumantes geram filhos mais saudáveis!\"\n",
    "2. Criar uma base de dados de teste com no minimo os seguintes campos: id, tipo da mae (fumante / nao fumante), peso do bebe, indicador de morte\n",
    "3. Os dados devem respeitar os numeros mostrados no slide, ou seja 700 observacoes no total\n",
    "4. Com base na variavel continua peso do bebe, criar uma categoria para montar a matriz mostrada nos slides\n",
    "5. Tentar criar um parametro (peso ponto de corte) para montar uma categoria dinamica e brincarmos e mudar o ponto de corte e ver o comportamento da distribuicao\n",
    "6. Sugiro criar a massa de dados no excel, pq vou querer auditar como foi criada a amostra. Mas pode ser em outro lugar, desde que vcs consigam explicar a logica de criacao dos dados.\n",
    "7. Apresentacao quando vcs acharem que estiver bom, ou na proxima aula de quarta e sexta\n",
    "\n",
    "<br>\n",
    "<img src=\"img/example.png\" width=\"400\" height=\"200\">"
   ]
  },
  {
   "cell_type": "code",
   "execution_count": 1,
   "metadata": {},
   "outputs": [],
   "source": [
    "import pandas as pd\n",
    "import random\n",
    "import seaborn as sn\n",
    "import matplotlib.pyplot as plt"
   ]
  },
  {
   "cell_type": "code",
   "execution_count": 2,
   "metadata": {},
   "outputs": [
    {
     "name": "stdout",
     "output_type": "stream",
     "text": [
      "   id\n",
      "0   0\n",
      "1   1\n",
      "2   2\n",
      "3   3\n",
      "4   4\n"
     ]
    }
   ],
   "source": [
    "data_length = 700\n",
    "data = {\"id\": [x for x in range(data_length)]}\n",
    "df = pd.DataFrame(data)\n",
    "print(df.head())"
   ]
  },
  {
   "cell_type": "code",
   "execution_count": 3,
   "metadata": {},
   "outputs": [
    {
     "name": "stdout",
     "output_type": "stream",
     "text": [
      "   id  smoking_mother\n",
      "0   0               1\n",
      "1   1               1\n",
      "2   2               0\n",
      "3   3               1\n",
      "4   4               0\n",
      "\n",
      "Número de mães fumantes:  361\n",
      "Número de mães não fumantes:  339\n"
     ]
    }
   ],
   "source": [
    "df['smoking_mother'] = random.choices([0,1], k=data_length)\n",
    "print(df.head())\n",
    "print('\\nNúmero de mães fumantes: ',df['smoking_mother'].sum())\n",
    "print('Número de mães não fumantes: ',data_length - df['smoking_mother'].sum())"
   ]
  },
  {
   "cell_type": "code",
   "execution_count": 4,
   "metadata": {},
   "outputs": [
    {
     "name": "stdout",
     "output_type": "stream",
     "text": [
      "   id  smoking_mother  baby_weight\n",
      "0   0               1         3319\n",
      "1   1               1         2218\n",
      "2   2               0         3870\n",
      "3   3               1         2230\n",
      "4   4               0         2556\n"
     ]
    }
   ],
   "source": [
    "df['baby_weight'] = random.choices(range(2000,4000), k=data_length)\n",
    "print(df.head())"
   ]
  },
  {
   "cell_type": "code",
   "execution_count": 5,
   "metadata": {},
   "outputs": [
    {
     "name": "stdout",
     "output_type": "stream",
     "text": [
      "   id  smoking_mother  baby_weight  dead_baby\n",
      "0   0               1         3319          1\n",
      "1   1               1         2218          0\n",
      "2   2               0         3870          0\n",
      "3   3               1         2230          0\n",
      "4   4               0         2556          0\n",
      "\n",
      "Mortalidade infantil:  151\n"
     ]
    }
   ],
   "source": [
    "df['dead_baby'] = random.choices([0,1], [8,2], k=data_length)\n",
    "print(df.head())\n",
    "print('\\nMortalidade infantil: ',df['dead_baby'].sum())"
   ]
  },
  {
   "cell_type": "code",
   "execution_count": 6,
   "metadata": {},
   "outputs": [
    {
     "name": "stdout",
     "output_type": "stream",
     "text": [
      "   id  smoking_mother  baby_weight  dead_baby categorical_weight\n",
      "0   0               1         3319          1      Acima do peso\n",
      "1   1               1         2218          0     Abaixo do peso\n",
      "2   2               0         3870          0      Acima do peso\n",
      "3   3               1         2230          0     Abaixo do peso\n",
      "4   4               0         2556          0      Acima do peso\n",
      "categorical_weight\n",
      "Abaixo do peso    139\n",
      "Acima do peso     561\n",
      "Name: id, dtype: int64\n"
     ]
    }
   ],
   "source": [
    "df['categorical_weight'] = ''\n",
    "weight_cut_point = (df['baby_weight'].mean() - df['baby_weight'].std()) # Ponto de \n",
    "df.loc[df['baby_weight']<= weight_cut_point, ['categorical_weight']] = 'Abaixo do peso'\n",
    "df.loc[df['baby_weight']> weight_cut_point, ['categorical_weight']] = 'Acima do peso'\n",
    "print(df.head())\n",
    "print(df.groupby('categorical_weight')['id'].count())"
   ]
  },
  {
   "cell_type": "code",
   "execution_count": 7,
   "metadata": {},
   "outputs": [
    {
     "name": "stdout",
     "output_type": "stream",
     "text": [
      "   id  smoking_mother  baby_weight  dead_baby categorical_weight\n",
      "0   0               1         3319          1      Acima do peso\n",
      "1   1               1         2218          0     Abaixo do peso\n",
      "2   2               0         3870          0      Acima do peso\n",
      "3   3               1         2230          0     Abaixo do peso\n",
      "4   4               0         2556          0     Abaixo do peso \n",
      "\n",
      "Acima do peso     355\n",
      "Abaixo do peso    345\n",
      "Name: categorical_weight, dtype: int64\n"
     ]
    }
   ],
   "source": [
    "df1 = df\n",
    "df1['categorical_weight'] = pd.cut(df['baby_weight'], bins=2, labels=['Abaixo do peso','Acima do peso'])\n",
    "print(df1.head(), '\\n')\n",
    "print(df1['categorical_weight'].value_counts())"
   ]
  },
  {
   "cell_type": "code",
   "execution_count": 9,
   "metadata": {},
   "outputs": [
    {
     "data": {
      "image/png": "[encoded data removed]",
      "text/plain": [
       "<Figure size 720x504 with 2 Axes>"
      ]
     },
     "metadata": {
      "needs_background": "light"
     },
     "output_type": "display_data"
    }
   ],
   "source": [
    "from sklearn.metrics import confusion_matrix\n",
    "import matplotlib.pyplot as plt\n",
    "import seaborn as sn\n",
    "\n",
    "df1['categorical_weight_bin'] = ''\n",
    "df1.loc[df1['categorical_weight'] == 'Acima do peso',['categorical_weight_bin']] = 0\n",
    "df1.loc[df1['categorical_weight'] == 'Abaixo do peso',['categorical_weight_bin']] = 1\n",
    "cm = confusion_matrix(df1['dead_baby'],df1['categorical_weight_bin'])\n",
    "\n",
    "df_cm = pd.DataFrame(cm, index=['Viveu','Morreu'], columns=['Acima do peso','Abaixo do peso'])\n",
    "plt.figure(figsize=(10,7))\n",
    "sn.heatmap(df_cm, cmap=\"YlGnBu\")\n",
    "plt.show()"
   ]
  },
  {
   "cell_type": "code",
   "execution_count": 10,
   "metadata": {},
   "outputs": [],
   "source": [
    "df1.to_excel(\"dead_babies.xlsx\")"
   ]
  }
 ],
 "metadata": {
  "kernelspec": {
   "display_name": "Python 3",
   "language": "python",
   "name": "python3"
  },
  "language_info": {
   "codemirror_mode": {
    "name": "ipython",
    "version": 3
   },
   "file_extension": ".py",
   "mimetype": "text/x-python",
   "name": "python",
   "nbconvert_exporter": "python",
   "pygments_lexer": "ipython3",
   "version": "3.6.9"
  }
 },
 "nbformat": 4,
 "nbformat_minor": 2
}
