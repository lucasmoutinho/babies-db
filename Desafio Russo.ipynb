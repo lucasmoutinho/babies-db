{
 "cells": [
  {
   "cell_type": "markdown",
   "metadata": {},
   "source": [
    "# Desafio Russo - Dead Babies\n",
    "\n",
    "by Thiago Russo:\n",
    "> Os times de quarta e sexta preparam o seguinte dever de casa para me apresentar (objetivos: praticar criar massa de teste, praticar relatorio no Viya, aprender a colocar um parametro para filtrar um relatorio no Viya)\n",
    "1. Com base no slide de \"Mães fumantes geram filhos mais saudáveis!\"\n",
    "2. Criar uma base de dados de teste com no minimo os seguintes campos: id, tipo da mae (fumante / nao fumante), peso do bebe, indicador de morte\n",
    "3. Os dados devem respeitar os numeros mostrados no slide, ou seja 700 observacoes no total\n",
    "4. Com base na variavel continua peso do bebe, criar uma categoria para montar a matriz mostrada nos slides\n",
    "5. Tentar criar um parametro (peso ponto de corte) para montar uma categoria dinamica e brincarmos e mudar o ponto de corte e ver o comportamento da distribuicao\n",
    "6. Sugiro criar a massa de dados no excel, pq vou querer auditar como foi criada a amostra. Mas pode ser em outro lugar, desde que vcs consigam explicar a logica de criacao dos dados.\n",
    "7. Apresentacao quando vcs acharem que estiver bom, ou na proxima aula de quarta e sexta\n",
    "\n",
    "<br>\n",
    "<img src=\"img/example.png\" width=\"400\" height=\"200\">"
   ]
  },
  {
   "cell_type": "code",
   "execution_count": 16,
   "metadata": {},
   "outputs": [],
   "source": [
    "import pandas as pd\n",
    "import random\n"
   ]
  },
  {
   "cell_type": "code",
   "execution_count": 20,
   "metadata": {},
   "outputs": [
    {
     "name": "stdout",
     "output_type": "stream",
     "text": "id\n0   0\n1   1\n2   2\n3   3\n4   4\n"
    }
   ],
   "source": [
    "data_length = 700\n",
    "data = {\"id\": [x for x in range(data_length)]}\n",
    "df = pd.DataFrame(data)\n",
    "print(df.head())"
   ]
  },
  {
   "cell_type": "code",
   "execution_count": 25,
   "metadata": {},
   "outputs": [
    {
     "name": "stdout",
     "output_type": "stream",
     "text": "id  smoking_mother\n0   0               0\n1   1               1\n2   2               1\n3   3               0\n4   4               0\n\nNúmero de mães fumantes:  326\nNúmero de mães não fumantes:  374\n"
    }
   ],
   "source": [
    "df['smoking_mother'] = random.choices([0,1], k=data_length)\n",
    "print(df.head())\n",
    "print('\\nNúmero de mães fumantes: ',df['smoking_mother'].sum())\n",
    "print('Número de mães não fumantes: ',data_length - df['smoking_mother'].sum())"
   ]
  },
  {
   "cell_type": "code",
   "execution_count": 29,
   "metadata": {},
   "outputs": [
    {
     "name": "stdout",
     "output_type": "stream",
     "text": "id  smoking_mother  baby_weight\n0   0               0         2329\n1   1               1         3611\n2   2               1         2624\n3   3               0         2367\n4   4               0         2982\n"
    }
   ],
   "source": [
    "df['baby_weight'] = random.choices(range(2000,4000), k=data_length)\n",
    "print(df.head())"
   ]
  },
  {
   "cell_type": "code",
   "execution_count": 34,
   "metadata": {},
   "outputs": [
    {
     "name": "stdout",
     "output_type": "stream",
     "text": "id  smoking_mother  baby_weight  dead_baby\n0   0               0         2329          1\n1   1               1         3611          0\n2   2               1         2624          1\n3   3               0         2367          1\n4   4               0         2982          0\n\nMortalidade infantil:  136\n"
    }
   ],
   "source": [
    "df['dead_baby'] = random.choices([0,1], [8,2], k=data_length)\n",
    "print(df.head())\n",
    "print('\\nMortalidade infantil: ',df['dead_baby'].sum())"
   ]
  },
  {
   "cell_type": "code",
   "execution_count": null,
   "metadata": {},
   "outputs": [],
   "source": []
  }
 ],
 "metadata": {
  "kernelspec": {
   "display_name": "Python 3",
   "language": "python",
   "name": "python3"
  },
  "language_info": {
   "codemirror_mode": {
    "name": "ipython",
    "version": 3
   },
   "file_extension": ".py",
   "mimetype": "text/x-python",
   "name": "python",
   "nbconvert_exporter": "python",
   "pygments_lexer": "ipython3",
   "version": "3.6.8"
  }
 },
 "nbformat": 4,
 "nbformat_minor": 2
}