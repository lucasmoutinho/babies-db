{
 "cells": [
  {
   "cell_type": "markdown",
   "metadata": {},
   "source": [
    "# Desafio Russo - Dead Babies\n",
    "\n",
    "by Thiago Russo:\n",
    "> Os times de quarta e sexta preparam o seguinte dever de casa para me apresentar (objetivos: praticar criar massa de teste, praticar relatorio no Viya, aprender a colocar um parametro para filtrar um relatorio no Viya)\n",
    "1. Com base no slide de \"Mães fumantes geram filhos mais saudáveis!\"\n",
    "2. Criar uma base de dados de teste com no minimo os seguintes campos: id, tipo da mae (fumante / nao fumante), peso do bebe, indicador de morte\n",
    "3. Os dados devem respeitar os numeros mostrados no slide, ou seja 700 observacoes no total\n",
    "4. Com base na variavel continua peso do bebe, criar uma categoria para montar a matriz mostrada nos slides\n",
    "5. Tentar criar um parametro (peso ponto de corte) para montar uma categoria dinamica e brincarmos e mudar o ponto de corte e ver o comportamento da distribuicao\n",
    "6. Sugiro criar a massa de dados no excel, pq vou querer auditar como foi criada a amostra. Mas pode ser em outro lugar, desde que vcs consigam explicar a logica de criacao dos dados.\n",
    "7. Apresentacao quando vcs acharem que estiver bom, ou na proxima aula de quarta e sexta\n",
    "\n",
    "<br>\n",
    "<img src=\"img/example.png\" width=\"400\" height=\"200\">"
   ]
  }
 ],
 "metadata": {
  "kernelspec": {
   "display_name": "Python 3",
   "language": "python",
   "name": "python3"
  },
  "language_info": {
   "codemirror_mode": {
    "name": "ipython",
    "version": 3
   },
   "file_extension": ".py",
   "mimetype": "text/x-python",
   "name": "python",
   "nbconvert_exporter": "python",
   "pygments_lexer": "ipython3",
   "version": "3.6.9"
  }
 },
 "nbformat": 4,
 "nbformat_minor": 2
}
